{
 "cells": [
  {
   "cell_type": "markdown",
   "id": "faa5e47a-b0bd-4ac0-a7fa-73882ecb9da5",
   "metadata": {},
   "source": [
    "# Mixplot analysis"
   ]
  },
  {
   "cell_type": "code",
   "execution_count": 1,
   "id": "47bea8b0-056f-4e67-b107-9a6d594bdbf0",
   "metadata": {},
   "outputs": [],
   "source": [
    "import os\n",
    "from scipy import io, sparse\n",
    "from scipy.io import mmread\n",
    "import scanpy as sc\n",
    "import pandas as pd\n",
    "from scipy.io import mmread\n",
    "import matplotlib.pyplot as plt\n",
    "import numpy as np\n",
    "def load_matrix(prefix=None):\n",
    "    mtx = mmread(os.path.join(prefix,'matrix.mtx')).T\n",
    "    mtx = mtx.tocsr()\n",
    "    var = pd.read_csv(os.path.join(prefix,'features.tsv'), sep='\\t', header=None, index_col=0)\n",
    "    obs = pd.read_csv(os.path.join(prefix,'barcodes.tsv'), sep='\\t', header=None, index_col=0)\n",
    "    adata = sc.AnnData(X=mtx, var=var, obs=obs)\n",
    "    return adata"
   ]
  },
  {
   "cell_type": "code",
   "execution_count": 2,
   "id": "1c22e06f-5ab5-466e-b8d5-7e5d42f05ff4",
   "metadata": {},
   "outputs": [],
   "source": [
    "# load data\n",
    "cells = [i.strip() for i in open('./00_Preprocess/IL10/ATAC/merged/barcodes.tsv')]\n",
    "hs_atac = pd.read_csv('./00_Preprocess/IL10/ATAC/fra_human.tsv',\n",
    "                      header=None, names=['cb', 'count_hs'], index_col = 'cb', sep='\\t')\n",
    "mm_atac = pd.read_csv('./00_Preprocess/IL10/ATAC/fra_mouse.tsv',\n",
    "                      header=None, names=['cb', 'count_mm'], index_col = 'cb', sep='\\t')\n",
    "df_atac = pd.concat([hs_atac, mm_atac], axis=1)\n",
    "df_atac = df_atac.loc[cells,]\n",
    "df_atac['total'] = df_atac['count_hs'] + df_atac['count_mm']"
   ]
  },
  {
   "cell_type": "code",
   "execution_count": 3,
   "id": "5e80d8fe-5418-4524-9cec-d9e101c7b227",
   "metadata": {},
   "outputs": [],
   "source": [
    "cells = [i.strip() for i in open('./00_Preprocess/IL10/RNA/merged/barcodes.tsv')]\n",
    "hs_rna = pd.read_csv('./00_Preprocess/IL10/RNA/fra_human.tsv',\n",
    "                     header=None, names=['cb', 'count_hs'], index_col='cb', sep='\\t')\n",
    "mm_rna = pd.read_csv('./00_Preprocess/IL10/RNA/fra_mouse.tsv',\n",
    "                     header=None, names=['cb', 'count_mm'], index_col='cb', sep='\\t')\n",
    "df_rna = pd.concat([hs_rna, mm_rna], axis=1)\n",
    "df_rna = df_rna.loc[cells,]\n",
    "df_rna['total'] = df_rna['count_hs'] + df_rna['count_mm']"
   ]
  },
  {
   "cell_type": "code",
   "execution_count": 4,
   "id": "5cc5a1a5-c24d-4f34-937c-f4723babf9c7",
   "metadata": {},
   "outputs": [],
   "source": [
    "df_atac['species'] = 0\n",
    "df_atac.loc[df_atac['count_hs']/df_atac['total'] > 0.8, 'species'] = 'Human'\n",
    "df_atac.loc[df_atac['count_mm']/df_atac['total'] > 0.8, 'species'] = 'Mouse'\n",
    "df_atac.replace({'species' : {0 : 'Mix'}}, inplace=True)"
   ]
  },
  {
   "cell_type": "code",
   "execution_count": 5,
   "id": "2baef516-d004-4a07-98dc-4db288f4b1f5",
   "metadata": {},
   "outputs": [],
   "source": [
    "df_rna['species'] = 0\n",
    "df_rna.loc[df_rna['count_hs']/df_rna['total'] > 0.8, 'species'] = 'Human'\n",
    "df_rna.loc[df_rna['count_mm']/df_rna['total'] > 0.8, 'species'] = 'Mouse'\n",
    "df_rna.replace({'species' : {0 : 'Mix'}}, inplace=True)"
   ]
  },
  {
   "cell_type": "code",
   "execution_count": 6,
   "id": "54259cc8-d073-4cb8-a396-4c68dc3d0e5f",
   "metadata": {},
   "outputs": [
    {
     "data": {
      "text/plain": [
       "species\n",
       "Mouse    1777\n",
       "Human    1406\n",
       "Mix        30\n",
       "Name: count, dtype: int64"
      ]
     },
     "execution_count": 6,
     "metadata": {},
     "output_type": "execute_result"
    }
   ],
   "source": [
    "df_atac['species'].value_counts()"
   ]
  },
  {
   "cell_type": "code",
   "execution_count": 7,
   "id": "541c76cc-67a7-4dcd-b3af-72f66ea763b4",
   "metadata": {},
   "outputs": [
    {
     "data": {
      "text/plain": [
       "species\n",
       "Mouse    1775\n",
       "Human    1406\n",
       "Mix        33\n",
       "Name: count, dtype: int64"
      ]
     },
     "execution_count": 7,
     "metadata": {},
     "output_type": "execute_result"
    }
   ],
   "source": [
    "df_rna['species'].value_counts()"
   ]
  },
  {
   "cell_type": "code",
   "execution_count": 8,
   "id": "9788a227-2ba3-4015-a1a6-1bcb648bd852",
   "metadata": {},
   "outputs": [
    {
     "data": {
      "text/html": [
       "<div>\n",
       "<style scoped>\n",
       "    .dataframe tbody tr th:only-of-type {\n",
       "        vertical-align: middle;\n",
       "    }\n",
       "\n",
       "    .dataframe tbody tr th {\n",
       "        vertical-align: top;\n",
       "    }\n",
       "\n",
       "    .dataframe thead th {\n",
       "        text-align: right;\n",
       "    }\n",
       "</style>\n",
       "<table border=\"1\" class=\"dataframe\">\n",
       "  <thead>\n",
       "    <tr style=\"text-align: right;\">\n",
       "      <th></th>\n",
       "      <th>count_hs_atac</th>\n",
       "      <th>count_mm_atac</th>\n",
       "      <th>total_atac</th>\n",
       "      <th>species_atac</th>\n",
       "      <th>count_hs_rna</th>\n",
       "      <th>count_mm_rna</th>\n",
       "      <th>total_rna</th>\n",
       "      <th>species_rna</th>\n",
       "    </tr>\n",
       "    <tr>\n",
       "      <th>cb</th>\n",
       "      <th></th>\n",
       "      <th></th>\n",
       "      <th></th>\n",
       "      <th></th>\n",
       "      <th></th>\n",
       "      <th></th>\n",
       "      <th></th>\n",
       "      <th></th>\n",
       "    </tr>\n",
       "  </thead>\n",
       "  <tbody>\n",
       "    <tr>\n",
       "      <th>BC0001_N02</th>\n",
       "      <td>1231</td>\n",
       "      <td>240351</td>\n",
       "      <td>241582</td>\n",
       "      <td>Mouse</td>\n",
       "      <td>5598</td>\n",
       "      <td>262017</td>\n",
       "      <td>267615</td>\n",
       "      <td>Mouse</td>\n",
       "    </tr>\n",
       "    <tr>\n",
       "      <th>BC0002_N02</th>\n",
       "      <td>325</td>\n",
       "      <td>143820</td>\n",
       "      <td>144145</td>\n",
       "      <td>Mouse</td>\n",
       "      <td>1254</td>\n",
       "      <td>51364</td>\n",
       "      <td>52618</td>\n",
       "      <td>Mouse</td>\n",
       "    </tr>\n",
       "    <tr>\n",
       "      <th>BC0003_N01</th>\n",
       "      <td>88099</td>\n",
       "      <td>255</td>\n",
       "      <td>88354</td>\n",
       "      <td>Human</td>\n",
       "      <td>102048</td>\n",
       "      <td>1879</td>\n",
       "      <td>103927</td>\n",
       "      <td>Human</td>\n",
       "    </tr>\n",
       "    <tr>\n",
       "      <th>BC0004_N01</th>\n",
       "      <td>70226</td>\n",
       "      <td>214</td>\n",
       "      <td>70440</td>\n",
       "      <td>Human</td>\n",
       "      <td>6028</td>\n",
       "      <td>214</td>\n",
       "      <td>6242</td>\n",
       "      <td>Human</td>\n",
       "    </tr>\n",
       "    <tr>\n",
       "      <th>BC0005_N01</th>\n",
       "      <td>178</td>\n",
       "      <td>63724</td>\n",
       "      <td>63902</td>\n",
       "      <td>Mouse</td>\n",
       "      <td>4418</td>\n",
       "      <td>191285</td>\n",
       "      <td>195703</td>\n",
       "      <td>Mouse</td>\n",
       "    </tr>\n",
       "  </tbody>\n",
       "</table>\n",
       "</div>"
      ],
      "text/plain": [
       "            count_hs_atac  count_mm_atac  total_atac species_atac  \\\n",
       "cb                                                                  \n",
       "BC0001_N02           1231         240351      241582        Mouse   \n",
       "BC0002_N02            325         143820      144145        Mouse   \n",
       "BC0003_N01          88099            255       88354        Human   \n",
       "BC0004_N01          70226            214       70440        Human   \n",
       "BC0005_N01            178          63724       63902        Mouse   \n",
       "\n",
       "            count_hs_rna  count_mm_rna  total_rna species_rna  \n",
       "cb                                                             \n",
       "BC0001_N02          5598        262017     267615       Mouse  \n",
       "BC0002_N02          1254         51364      52618       Mouse  \n",
       "BC0003_N01        102048          1879     103927       Human  \n",
       "BC0004_N01          6028           214       6242       Human  \n",
       "BC0005_N01          4418        191285     195703       Mouse  "
      ]
     },
     "execution_count": 8,
     "metadata": {},
     "output_type": "execute_result"
    }
   ],
   "source": [
    "df_joint = pd.merge(df_atac, df_rna, how = 'inner', left_index = True, right_index = True, suffixes = ('_atac', '_rna'))\n",
    "df_joint.head()"
   ]
  },
  {
   "cell_type": "code",
   "execution_count": 9,
   "id": "302c11a9-949d-445f-bfcf-3318675f83d5",
   "metadata": {},
   "outputs": [],
   "source": [
    "df_joint['ATAC GRCh38 fragments %'] = df_joint['count_hs_atac']/df_joint['total_atac'] * 100\n",
    "df_joint['RNA GRCh38 reads %'] = df_joint['count_hs_rna']/df_joint['total_rna'] * 100"
   ]
  },
  {
   "cell_type": "code",
   "execution_count": 10,
   "id": "92d7fda9-a1ee-49ee-8832-88e692b797cf",
   "metadata": {},
   "outputs": [
    {
     "data": {
      "text/plain": [
       "species_atac\n",
       "Mouse    1777\n",
       "Human    1406\n",
       "Mix        30\n",
       "Name: count, dtype: int64"
      ]
     },
     "execution_count": 10,
     "metadata": {},
     "output_type": "execute_result"
    }
   ],
   "source": [
    "df_joint['species_atac'].value_counts()"
   ]
  },
  {
   "cell_type": "code",
   "execution_count": 11,
   "id": "3415ec80-de71-4ab4-baa5-53a568d5c1fe",
   "metadata": {},
   "outputs": [
    {
     "data": {
      "text/plain": [
       "species_rna\n",
       "Mouse    1775\n",
       "Human    1405\n",
       "Mix        33\n",
       "Name: count, dtype: int64"
      ]
     },
     "execution_count": 11,
     "metadata": {},
     "output_type": "execute_result"
    }
   ],
   "source": [
    "df_joint['species_rna'].value_counts()"
   ]
  },
  {
   "cell_type": "code",
   "execution_count": 12,
   "id": "932eb547-aaca-4659-8110-1b8b30f75950",
   "metadata": {},
   "outputs": [
    {
     "data": {
      "text/plain": [
       "species_joint\n",
       "MouseMouse    1773\n",
       "HumanHuman    1403\n",
       "MixMix          26\n",
       "MouseMix         4\n",
       "HumanMix         3\n",
       "MixHuman         2\n",
       "MixMouse         2\n",
       "Name: count, dtype: int64"
      ]
     },
     "execution_count": 12,
     "metadata": {},
     "output_type": "execute_result"
    }
   ],
   "source": [
    "df_joint['species_joint'] = df_joint['species_atac'] + df_joint['species_rna']\n",
    "df_joint['species_joint'].value_counts()"
   ]
  },
  {
   "cell_type": "code",
   "execution_count": 13,
   "id": "7c212158-e191-4a4e-9da3-2603b1b69dbe",
   "metadata": {},
   "outputs": [
    {
     "data": {
      "image/png": "[encoded data removed]",
      "text/plain": [
       "<Figure size 1600x450 with 3 Axes>"
      ]
     },
     "metadata": {},
     "output_type": "display_data"
    }
   ],
   "source": [
    "import matplotlib.pyplot as plt \n",
    "import numpy as np \n",
    "plt.rcParams['figure.figsize'] = (16, 4.5)\n",
    "fig, ax = plt.subplots(1,3)\n",
    "# atac\n",
    "plt.subplot(1,3,1)\n",
    "for sp, c in zip(['Human', 'Mouse', 'Mix'], [\"red\", \"blue\", \"grey\"]):\n",
    "    plt.scatter(df_joint.query('species_atac == @sp')['count_hs_atac'], df_joint.query('species_atac == @sp')['count_mm_atac'],\n",
    "                c=c, ec=None, s=8, label=f'{sp}: {df_joint.species_joint.value_counts()[sp]}({ratio[sp]}%)', alpha=.9)\n",
    "plt.xlim(-10000, 220000)\n",
    "plt.ylim(-10000, 220000)\n",
    "plt.xticks([0, 50000, 100000, 150000, 200000], ['0', '5', '10', '15', '20'])\n",
    "plt.yticks([0, 50000, 100000, 150000, 200000], ['0', '5', '10', '15', '20'])\n",
    "plt.xlabel(r'GRCh38 fragments ($\\times 10^4$)')\n",
    "plt.ylabel(r'mm10 fragments ($\\times 10^4$)')\n",
    "plt.legend(frameon=False, markerscale=2,loc=8,bbox_to_anchor=(0.5, 1.0),ncol=2)\n",
    "\n",
    "# rna\n",
    "plt.subplot(1,3,2)\n",
    "for sp, c in zip(['Human', 'Mouse', 'Mix'], [\"red\", \"blue\", \"grey\"]):\n",
    "    plt.scatter(df_joint.query('species_rna == @sp')['count_hs_rna'], df_joint.query('species_rna == @sp')['count_mm_rna'],\n",
    "                c=c, ec=None, s=8, label=f'{sp}: {df_joint.species_joint.value_counts()[sp]}({ratio[sp]}%)', alpha=.9)\n",
    "plt.xlim(-10000, 660000)\n",
    "plt.ylim(-10000, 660000)\n",
    "plt.xticks([0, 200000, 400000, 600000], ['0', '2', '4', '6'])\n",
    "plt.yticks([0, 200000, 400000, 600000], ['0', '2', '4', '6'])\n",
    "plt.xlabel(r'GRCh38 reads ($\\times 10^5$)')\n",
    "plt.ylabel(r'mm10 reads ($\\times 10^5$)')\n",
    "plt.legend(frameon=False, markerscale=2,loc=8,bbox_to_anchor=(0.5, 1.0),ncol=2)\n",
    "\n",
    "# atac/rna\n",
    "plt.subplot(1,3,3)\n",
    "ratio = round(df_joint.species_joint.value_counts() / sum(df_joint.species_joint.value_counts()) * 100, 2)\n",
    "for sp, c in zip(['Human', 'Mouse', 'Mix'], [\"#E41A1C\", \"#377EB8\", \"grey\"]):\n",
    "    plt.scatter(df_joint.query('species_joint == @sp')['ATAC GRCh38 fragments %'],\n",
    "                df_joint.query('species_joint == @sp')['RNA GRCh38 reads %'], ec=None,\n",
    "                c=c, s=8, label=f'{sp}: {df_joint.species_joint.value_counts()[sp]}({ratio[sp]}%)', alpha=.9)\n",
    "plt.legend(frameon=False, markerscale=2,loc=8,bbox_to_anchor=(0.5, 1.0),ncol=2)\n",
    "plt.xlabel(r'ATAC Human fragments %')\n",
    "plt.ylabel(r'RNA Human reads %')\n",
    "\n",
    "plt.savefig('./01_Celline/mixplot.pdf', bbox_inches='tight', transparent=True, dpi=600)\n",
    "plt.show()"
   ]
  },
  {
   "cell_type": "code",
   "execution_count": 14,
   "id": "0c38bf33-dc90-4bbf-bbb3-c7ff9aaf5dd3",
   "metadata": {},
   "outputs": [],
   "source": []
  }
 ],
 "metadata": {
  "kernelspec": {
   "display_name": "python3-commom",
   "language": "python",
   "name": "python3-commom"
  },
  "language_info": {
   "codemirror_mode": {
    "name": "ipython",
    "version": 3
   },
   "file_extension": ".py",
   "mimetype": "text/x-python",
   "name": "python",
   "nbconvert_exporter": "python",
   "pygments_lexer": "ipython3",
   "version": "3.8.8"
  }
 },
 "nbformat": 4,
 "nbformat_minor": 5
}
